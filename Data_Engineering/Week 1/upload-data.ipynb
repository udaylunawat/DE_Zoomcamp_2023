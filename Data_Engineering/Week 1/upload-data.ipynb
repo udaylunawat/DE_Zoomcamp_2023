{
 "cells": [
  {
   "cell_type": "code",
   "execution_count": 2,
   "id": "36abe30c-50e0-40e7-ab18-14b8b78619b9",
   "metadata": {},
   "outputs": [],
   "source": [
    "import pandas as pd"
   ]
  },
  {
   "cell_type": "code",
   "execution_count": 3,
   "id": "3248b8db-2542-4f4e-9ac8-7d2a0ded28ab",
   "metadata": {},
   "outputs": [
    {
     "data": {
      "text/plain": [
       "'1.5.3'"
      ]
     },
     "execution_count": 3,
     "metadata": {},
     "output_type": "execute_result"
    }
   ],
   "source": [
    "pd.__version__"
   ]
  },
  {
   "cell_type": "code",
   "execution_count": 8,
   "id": "d5d92aa2-60cc-444d-91e4-157f1e16fda9",
   "metadata": {},
   "outputs": [],
   "source": [
    "df = pd.read_csv('data/yellow_tripdata_2021-01.csv', nrows=100)"
   ]
  },
  {
   "cell_type": "code",
   "execution_count": null,
   "id": "e68a7065-024a-461d-995e-7db0491b89af",
   "metadata": {},
   "outputs": [],
   "source": []
  }
 ],
 "metadata": {
  "kernelspec": {
   "display_name": "Python 3 (ipykernel)",
   "language": "python",
   "name": "python3"
  },
  "language_info": {
   "codemirror_mode": {
    "name": "ipython",
    "version": 3
   },
   "file_extension": ".py",
   "mimetype": "text/x-python",
   "name": "python",
   "nbconvert_exporter": "python",
   "pygments_lexer": "ipython3",
   "version": "3.9.16"
  }
 },
 "nbformat": 4,
 "nbformat_minor": 5
}
